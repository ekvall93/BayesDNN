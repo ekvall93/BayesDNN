{
 "cells": [
  {
   "cell_type": "code",
   "execution_count": 1,
   "metadata": {},
   "outputs": [],
   "source": [
    "import tensorflow as tf\n",
    "import random\n",
    "import pandas as pd\n",
    "import numpy as np\n",
    "import matplotlib\n",
    "import matplotlib.pyplot as plt\n",
    "%matplotlib inline\n",
    "from fastai.imports import *\n",
    "from fastai.structured import *\n",
    "np.random.seed(14)"
   ]
  },
  {
   "cell_type": "code",
   "execution_count": 2,
   "metadata": {},
   "outputs": [
    {
     "data": {
      "text/html": [
       "<div>\n",
       "<style scoped>\n",
       "    .dataframe tbody tr th:only-of-type {\n",
       "        vertical-align: middle;\n",
       "    }\n",
       "\n",
       "    .dataframe tbody tr th {\n",
       "        vertical-align: top;\n",
       "    }\n",
       "\n",
       "    .dataframe thead th {\n",
       "        text-align: right;\n",
       "    }\n",
       "</style>\n",
       "<table border=\"1\" class=\"dataframe\">\n",
       "  <thead>\n",
       "    <tr style=\"text-align: right;\">\n",
       "      <th></th>\n",
       "      <th>Pencillin(R)</th>\n",
       "      <th>Erythromycin(R)</th>\n",
       "      <th>Multidrug(R)</th>\n",
       "      <th>Amoxicillin(C)</th>\n",
       "      <th>Amoxicillin-Clavunate(C)</th>\n",
       "      <th>Amoxicillin-Total(C)</th>\n",
       "      <th>Cephalosporins(C)</th>\n",
       "      <th>Azithromycin(C)</th>\n",
       "      <th>ConcTotal(C)</th>\n",
       "    </tr>\n",
       "    <tr>\n",
       "      <th>Year</th>\n",
       "      <th></th>\n",
       "      <th></th>\n",
       "      <th></th>\n",
       "      <th></th>\n",
       "      <th></th>\n",
       "      <th></th>\n",
       "      <th></th>\n",
       "      <th></th>\n",
       "      <th></th>\n",
       "    </tr>\n",
       "  </thead>\n",
       "  <tbody>\n",
       "    <tr>\n",
       "      <th>1999.000000</th>\n",
       "      <td>19.9071</td>\n",
       "      <td>0.00000</td>\n",
       "      <td>0.050406</td>\n",
       "      <td>222.186</td>\n",
       "      <td>67.4306</td>\n",
       "      <td>289.6166</td>\n",
       "      <td>37.6809</td>\n",
       "      <td>4.12793</td>\n",
       "      <td>358.506</td>\n",
       "    </tr>\n",
       "    <tr>\n",
       "      <th>1999.083333</th>\n",
       "      <td>47.2212</td>\n",
       "      <td>2.51094</td>\n",
       "      <td>9.361640</td>\n",
       "      <td>251.312</td>\n",
       "      <td>71.1567</td>\n",
       "      <td>322.4687</td>\n",
       "      <td>25.5851</td>\n",
       "      <td>2.61499</td>\n",
       "      <td>382.361</td>\n",
       "    </tr>\n",
       "  </tbody>\n",
       "</table>\n",
       "</div>"
      ],
      "text/plain": [
       "             Pencillin(R)  Erythromycin(R)  Multidrug(R)  Amoxicillin(C)  \\\n",
       "Year                                                                       \n",
       "1999.000000       19.9071          0.00000      0.050406         222.186   \n",
       "1999.083333       47.2212          2.51094      9.361640         251.312   \n",
       "\n",
       "             Amoxicillin-Clavunate(C)  Amoxicillin-Total(C)  \\\n",
       "Year                                                          \n",
       "1999.000000                   67.4306              289.6166   \n",
       "1999.083333                   71.1567              322.4687   \n",
       "\n",
       "             Cephalosporins(C)  Azithromycin(C)  ConcTotal(C)  \n",
       "Year                                                           \n",
       "1999.000000            37.6809          4.12793       358.506  \n",
       "1999.083333            25.5851          2.61499       382.361  "
      ]
     },
     "execution_count": 2,
     "metadata": {},
     "output_type": "execute_result"
    }
   ],
   "source": [
    "df = pd.read_csv(\"assets/rspb20170679_si_005.csv\")\n",
    "\n",
    "df.columns = [\"Year\",\"Pencillin(R)\", \"Erythromycin(R)\",\"Multidrug(R)\",\"Amoxicillin(C)\",\n",
    "              \"Amoxicillin-Clavunate(C)\",\"Amoxicillin-Total(C)\",\"Cephalosporins(C)\",\n",
    "              \"Azithromycin(C)\",\"ConcTotal(C)\"]\n",
    "df = df.set_index(\"Year\")\n",
    "df.head(2)"
   ]
  },
  {
   "cell_type": "code",
   "execution_count": 55,
   "metadata": {},
   "outputs": [
    {
     "data": {
      "text/plain": [
       "(60, 9)"
      ]
     },
     "execution_count": 55,
     "metadata": {},
     "output_type": "execute_result"
    }
   ],
   "source": [
    "df.shape"
   ]
  },
  {
   "cell_type": "code",
   "execution_count": 3,
   "metadata": {},
   "outputs": [],
   "source": [
    "Multidrug_X = df[[\"Multidrug(R)\",\n",
    "                 \"Azithromycin(C)\",\"Amoxicillin-Total(C)\"]].values\n",
    "Erythromycin_X = df[[\"Erythromycin(R)\",\n",
    "                 \"Azithromycin(C)\",\"Amoxicillin-Total(C)\"]].values\n",
    "Pencillin_x = df[[\"Pencillin(R)\",\"Cephalosporins(C)\",\n",
    "                 \"Azithromycin(C)\"]].values"
   ]
  },
  {
   "cell_type": "code",
   "execution_count": 4,
   "metadata": {},
   "outputs": [],
   "source": [
    "#Pencillin_x = df[[\"Pencillin(R)\",\"Cephalosporins(C)\",\"Azithromycin(C)\"]].values"
   ]
  },
  {
   "cell_type": "code",
   "execution_count": 5,
   "metadata": {},
   "outputs": [],
   "source": [
    "#Multidrug_X = df[[\"Multidrug(R)\",\"Cephalosporins(C)\"]].values"
   ]
  },
  {
   "cell_type": "code",
   "execution_count": 6,
   "metadata": {},
   "outputs": [],
   "source": [
    "def train_data(data, num_periods=7, f_horizon=1, scale=False):    \n",
    "    n, m = data.shape\n",
    "\n",
    "    x_data = data[:(len(data) - (len(data) % num_periods))]\n",
    "    y_data = data[1:(len(data)-(len(data) % num_periods)) + f_horizon]\n",
    "    \n",
    "    if scale:\n",
    "        std_scale = preprocessing.StandardScaler().fit(x_data, y_data)\n",
    "        x_data = std_scale.transform(x_data)\n",
    "        y_data = std_scale.transform(y_data)\n",
    "    \n",
    "    \n",
    "    \n",
    "    x_batches = x_data.reshape(-1, num_periods, m)\n",
    "    y_batches = y_data.reshape(-1, num_periods, m)\n",
    "    \n",
    "    if scale:\n",
    "        return x_batches, y_batches, std_scale\n",
    "    else:\n",
    "        return x_batches, y_batches"
   ]
  },
  {
   "cell_type": "code",
   "execution_count": 7,
   "metadata": {},
   "outputs": [],
   "source": [
    "def test_data(data, num_periods, forecast, std_scale=None):\n",
    "    n,m = data.shape\n",
    "    \n",
    "    test_x_setup = data[-(num_periods +  forecast):]\n",
    "    \n",
    "    if std_scale:\n",
    "        test_x_setup = std_scale.transform(test_x_setup)\n",
    "    \n",
    "    testX = test_x_setup[:num_periods].reshape(-1, num_periods, m)\n",
    "    \n",
    "    if std_scale:\n",
    "        testY = std_scale.transform(data[-(num_periods):]).reshape(-1, num_periods, m)\n",
    "    else:\n",
    "        testY = data[-(num_periods):].reshape(-1, num_periods, m)\n",
    "    return testX, testY"
   ]
  },
  {
   "cell_type": "code",
   "execution_count": 8,
   "metadata": {},
   "outputs": [],
   "source": [
    "from tensorflow.contrib.distributions import Bernoulli\n",
    "\n",
    "class StochasticRNNLayer:\n",
    "    \"\"\"\n",
    "    StochasticLayer Dense Layer.\n",
    "\n",
    "    Parameters\n",
    "    ----------\n",
    "    BN : bool\n",
    "        Batchnormalization\n",
    "    n_in : int\n",
    "        Input nodes\n",
    "    n_out: int\n",
    "        Output nodes\n",
    "    model_prob: float\n",
    "        Dropout probability\n",
    "    model_lam: float\n",
    "        regualarization term\n",
    "    is_training: bool\n",
    "        traing-phase/test-phase        \n",
    "    \n",
    "    Returns\n",
    "    -------\n",
    "    array\n",
    "        Outputlayer\n",
    "    \"\"\"\n",
    "    \n",
    "\n",
    "    def __init__(self, n_in, n_out, model_prob, model_lam, is_training, BN=False, decay=0.99):\n",
    "        \n",
    "        \n",
    "        self.n_in = n_in\n",
    "        self.n_out = n_out\n",
    "        \n",
    "        self.is_training = is_training    \n",
    "        self.model_prob = model_prob\n",
    "        self.model_lam = model_lam\n",
    "        self.model_bern = Bernoulli(probs=self.model_prob, dtype=tf.float32)\n",
    "        \n",
    "        self.model_M = tf.Variable(tf.truncated_normal([n_in, n_out], stddev=0.01))\n",
    "        self.model_m = tf.Variable(tf.zeros([n_out]))\n",
    "        self.model_W = tf.matmul(\n",
    "            tf.diag(self.model_bern.sample((n_in, ))), self.model_M\n",
    "        )\n",
    "        \n",
    "        #Parameters for BatchNormalization\n",
    "        self.BN = BN\n",
    "        self.scale = tf.Variable(tf.ones([n_out]))\n",
    "        self.beta = tf.Variable(tf.zeros([n_out]))\n",
    "        self.epsilon = 1e-2\n",
    "        self.mean = tf.Variable(tf.zeros([n_out]), trainable=False)\n",
    "        self.var = tf.Variable(tf.ones([n_out]), trainable=False)\n",
    "        self.decay = decay\n",
    "\n",
    "    def __call__(self, X, activation=tf.identity):\n",
    "        \n",
    "        basic_cell = tf.contrib.rnn.OutputProjectionWrapper(\n",
    "            tf.contrib.rnn.BasicRNNCell(num_units=self.n_in, activation=tf.nn.relu),\n",
    "            output_size=self.n_in\n",
    "        )\n",
    "        \n",
    "            \n",
    "        rnn_output, states = tf.nn.dynamic_rnn(basic_cell, X, dtype=tf.float32)\n",
    "        \n",
    "\n",
    "        #rnn_cell = tf.contrib.rnn.MultiRNNCell([tf.contrib.rnn.BasicLSTMCell(self.n_in), tf.contrib.rnn.BasicLSTMCell(self.n_in)])\n",
    "        #outputs, states = tf.contrib.rnn.static_rnn(rnn_cell, X, dtype=tf.float32)\n",
    "            \n",
    "        #print(\"rnn_output\",rnn_output.shape)\n",
    "        output = tf.reshape(rnn_output, [-1, self.n_in])\n",
    "        \n",
    "        #output = outputs[-1]\n",
    "        \n",
    "        \n",
    "        #output = rnn_output\n",
    "        #print(\"data\",X.shape)\n",
    "        #print(\"output\",output.shape)\n",
    "        #print(\"mask\",self.model_W.shape)\n",
    "        output = activation(tf.matmul(output, self.model_W) + self.model_m)\n",
    "        \n",
    "        if self.BN:\n",
    "            output = self.batch_norm_wrapper(output)\n",
    "                \n",
    "        #if self.model_M.shape[1] == m:\n",
    "        #    output = tf.squeeze(output)\n",
    "        return output\n",
    "\n",
    "    @property\n",
    "    def regularization(self):\n",
    "        \"\"\"regularization\"\"\"\n",
    "\n",
    "        return self.model_lam * (\n",
    "            self.model_prob * tf.reduce_sum(tf.square(self.model_M)) +\n",
    "            tf.reduce_sum(tf.square(self.model_m))\n",
    "        )\n",
    "\n",
    "    \n",
    "    \n",
    "    def batch_norm_wrapper(self, inputs):\n",
    "        \"\"\"\n",
    "        Batchnormalization\n",
    "\n",
    "        Parameters\n",
    "        ----------\n",
    "        inputs : array\n",
    "            Batch input\n",
    "        is_training : bool\n",
    "            training phase/test phase\n",
    "        decay: float\n",
    "            Decrease training of popoulation mean and variance.    \n",
    "        Returns\n",
    "        -------\n",
    "        array\n",
    "            Normalized batched\n",
    "        \"\"\"\n",
    "        \n",
    "        \n",
    "        \n",
    "        def BN_train():\n",
    "            \"\"\"\n",
    "            Batchnormalization training\n",
    " \n",
    "            Returns\n",
    "            -------\n",
    "            array\n",
    "                Normalized train batch\n",
    "            \"\"\"\n",
    "            batch_mean, batch_var = tf.nn.moments(inputs,[0])\n",
    "            train_mean = tf.assign(self.mean, self.mean * self.decay + batch_mean * (1 - self.decay))\n",
    "            train_var = tf.assign(self.var, self.var * self.decay + batch_var * (1 - self.decay))\n",
    "            #train_mean = tf.assign(self.mean, self.mean + batch_mean)\n",
    "            #train_var = tf.assign(self.var, self.var + batch_var)\n",
    "            \n",
    "            with tf.control_dependencies([train_mean, train_var]):\n",
    "                return tf.nn.batch_normalization(inputs,\n",
    "                    batch_mean, batch_var, self.beta, self.scale, self.epsilon)\n",
    "            \n",
    "        def BN_test():\n",
    "            \"\"\"\n",
    "            Batchnormalization test\n",
    " \n",
    "            Returns\n",
    "            -------\n",
    "            array\n",
    "                Normalized test batched\n",
    "            \"\"\"\n",
    "            return tf.nn.batch_normalization(inputs,\n",
    "                self.mean, self.var, self.beta, self.scale, self.epsilon)\n",
    "        \n",
    "        \n",
    "        return tf.cond(self.is_training, BN_train, BN_test)"
   ]
  },
  {
   "cell_type": "code",
   "execution_count": 9,
   "metadata": {},
   "outputs": [],
   "source": [
    "def build_graph(num_periods, features, dp_prob=1.0, BN=False, decay=0.99,hidden=100,bs=10, model_lam=1e-2):\n",
    "    #num_periods = x_batches.shape[1]\n",
    "    inputs = features\n",
    "    hidden = hidden\n",
    "    #output = features\n",
    "    output = 1\n",
    "    model_prob = dp_prob\n",
    "    model_lam = model_lam\n",
    "\n",
    "\n",
    "\n",
    "    X = tf.placeholder(tf.float32, [None, num_periods, inputs])\n",
    "    \n",
    "    #X = tf.reshape(z, [-1, num_periods*inputs])\n",
    "    #X = tf.split(X, num_periods, 1)\n",
    "    \n",
    "    \n",
    "    y = tf.placeholder(tf.float32, [None, num_periods, output])\n",
    "\n",
    "    is_training = tf.placeholder(tf.bool)\n",
    "    \n",
    "    Layer_1 = StochasticRNNLayer(hidden, hidden, model_prob, model_lam, is_training ,BN=BN, decay=decay)\n",
    "\n",
    "    z_1 = Layer_1(X, tf.nn.relu)\n",
    "\n",
    "\n",
    "    learning_rate = 0.001\n",
    "    \n",
    "\n",
    "\n",
    "    stacked_outputs = tf.layers.dense(z_1, output)\n",
    "    y_pred = tf.reshape(stacked_outputs, [-1, num_periods, output])\n",
    "    \n",
    "    sse = tf.reduce_sum(tf.square(y_pred - y)) \n",
    "\n",
    "    mse = sse / bs\n",
    "    \n",
    "    model_loss = (\n",
    "        # Negative log-likelihood.\n",
    "        sse +\n",
    "        # Regularization.\n",
    "        Layer_1.regularization \n",
    "        \n",
    "                ) / bs\n",
    "    \n",
    "    \n",
    "    train_step = tf.train.AdamOptimizer(learning_rate=learning_rate).minimize(model_loss)\n",
    "\n",
    "    return (X, y), train_step, mse, y_pred, tf.train.Saver(), is_training\n"
   ]
  },
  {
   "cell_type": "code",
   "execution_count": 10,
   "metadata": {},
   "outputs": [],
   "source": [
    "def train(x_batches,y_batch,iterations=2000, verbose =True, bs=10):\n",
    "    \"\"\"\n",
    "    Train model\n",
    "\n",
    "    Parameters\n",
    "    ----------\n",
    "    iterations : int\n",
    "        Number of iterations\n",
    "    verbose : bool\n",
    "        Verbose\n",
    "    bs: int\n",
    "        batch-size\n",
    "    \"\"\"\n",
    "    with tf.Session() as sess:\n",
    "        sess.run(tf.global_variables_initializer())\n",
    "        for i in range(iterations):\n",
    "            #Run it in batches.\n",
    "            test_idx = np.arange(0 , len(x_batches[1]))\n",
    "            #np.random.shuffle(test_idx)\n",
    "            X_batch = x_batches[test_idx[:bs]]\n",
    "            y_batch = y_batches[test_idx[:bs]]\n",
    "        \n",
    "        \n",
    "            train_step.run(feed_dict={X_input: X_batch, y_input: y_batch, is_training:True})\n",
    "            if verbose:\n",
    "                if i % 100 == 0:\n",
    "                    print(i)\n",
    "                    mse = sess.run(model_mse, {X_input: X_batch, y_input: y_batch, is_training:True})\n",
    "                    print(\"Iteration {}, Mean squared errror: {:.7f}\".format(i, mse))\n",
    "        saved_model = saver.save(sess, 'temp/temp-bn-save')\n",
    "        sess.close()"
   ]
  },
  {
   "cell_type": "code",
   "execution_count": 11,
   "metadata": {},
   "outputs": [],
   "source": [
    "def test(x_batches,X_test,features,samples=1000, bs=10,BN=False):\n",
    "    \"\"\"\n",
    "    Test model\n",
    "\n",
    "    Parameters\n",
    "    ----------\n",
    "    samples : int\n",
    "        Monte Carlo Samples\n",
    "    bs : int\n",
    "        Batchnorm samples\n",
    "    \"\"\"\n",
    "    \n",
    "    with tf.Session() as sess:\n",
    "        sess.run(tf.global_variables_initializer())\n",
    "        saver.restore(sess, 'temp/temp-bn-save')\n",
    "    \n",
    "\n",
    "        Y_sample = np.zeros((samples, x_batches.shape[1], features))\n",
    "        for i in range(samples):       \n",
    "            if BN:\n",
    "                test_idx = np.arange(0 , x_batches.shape[0])\n",
    "                np.random.shuffle(test_idx)\n",
    "                model_pred.eval({X_input: x_batches[test_idx[:bs]],  is_training: True})\n",
    "            Y_sample[i] = sess.run(model_pred, {X_input: X_test, is_training: False})\n",
    "        return Y_sample"
   ]
  },
  {
   "cell_type": "code",
   "execution_count": 12,
   "metadata": {},
   "outputs": [],
   "source": [
    "def plot(y_samples, y_test):\n",
    "    if True:\n",
    "        plt.figure(figsize=(8,6))\n",
    "    for i in range(samples):\n",
    "        plt.plot(pd.Series(np.ravel(y_samples[i])), \"b-\", alpha=1. / 200)\n",
    "    plt.plot(pd.Series(np.ravel(y_test)), \"ro\", markersize=10, label=\"Actual\")"
   ]
  },
  {
   "cell_type": "markdown",
   "metadata": {},
   "source": [
    "# BDNN Multidrug rescistance Forecasting "
   ]
  },
  {
   "cell_type": "code",
   "execution_count": 13,
   "metadata": {},
   "outputs": [],
   "source": [
    "decay=0.8\n",
    "bs = 5\n",
    "dp_prob = 0.25\n",
    "BN=True\n",
    "hidden= 500\n",
    "samples = 3000\n",
    "iterations=  5 * 1000\n",
    "model_lam = 1e-1"
   ]
  },
  {
   "cell_type": "code",
   "execution_count": 14,
   "metadata": {},
   "outputs": [],
   "source": [
    "num_periods, f_horizon = 7, 1\n",
    "features = Multidrug_X.shape[1]"
   ]
  },
  {
   "cell_type": "code",
   "execution_count": 15,
   "metadata": {},
   "outputs": [],
   "source": [
    "x_batches, y_batches = train_data(Multidrug_X, num_periods=num_periods, f_horizon=f_horizon)\n",
    "X_test, Y_test = test_data(Multidrug_X, num_periods,f_horizon)"
   ]
  },
  {
   "cell_type": "code",
   "execution_count": 16,
   "metadata": {},
   "outputs": [],
   "source": [
    "y_batches = np.expand_dims(y_batches[:,:,0],2)\n",
    "Y_test = np.expand_dims(Y_test[:,:,0],2)"
   ]
  },
  {
   "cell_type": "code",
   "execution_count": 17,
   "metadata": {},
   "outputs": [
    {
     "data": {
      "text/plain": [
       "(8, 7)"
      ]
     },
     "execution_count": 17,
     "metadata": {},
     "output_type": "execute_result"
    }
   ],
   "source": [
    "np.min(x_batches,axis=2).shape"
   ]
  },
  {
   "cell_type": "code",
   "execution_count": 18,
   "metadata": {},
   "outputs": [
    {
     "name": "stdout",
     "output_type": "stream",
     "text": [
      "0\n",
      "Iteration 0, Mean squared errror: 2904.2202148\n",
      "100\n",
      "Iteration 100, Mean squared errror: 1064.9597168\n",
      "200\n",
      "Iteration 200, Mean squared errror: 56.5893021\n",
      "300\n",
      "Iteration 300, Mean squared errror: 27.2366333\n",
      "400\n",
      "Iteration 400, Mean squared errror: 14.9301176\n",
      "500\n",
      "Iteration 500, Mean squared errror: 12.7333345\n",
      "600\n",
      "Iteration 600, Mean squared errror: 16.4726295\n",
      "700\n",
      "Iteration 700, Mean squared errror: 13.2735367\n",
      "800\n",
      "Iteration 800, Mean squared errror: 22.0674744\n",
      "900\n",
      "Iteration 900, Mean squared errror: 6.6465745\n",
      "1000\n",
      "Iteration 1000, Mean squared errror: 3.0963628\n",
      "1100\n",
      "Iteration 1100, Mean squared errror: 3.1804569\n",
      "1200\n",
      "Iteration 1200, Mean squared errror: 3.9131279\n",
      "1300\n",
      "Iteration 1300, Mean squared errror: 2.1984599\n",
      "1400\n",
      "Iteration 1400, Mean squared errror: 8.9298954\n",
      "1500\n",
      "Iteration 1500, Mean squared errror: 2.2240489\n",
      "1600\n",
      "Iteration 1600, Mean squared errror: 2.3990257\n",
      "1700\n",
      "Iteration 1700, Mean squared errror: 2.2571547\n",
      "1800\n",
      "Iteration 1800, Mean squared errror: 2.3163419\n",
      "1900\n",
      "Iteration 1900, Mean squared errror: 2.1593971\n",
      "2000\n",
      "Iteration 2000, Mean squared errror: 1.3476375\n",
      "2100\n",
      "Iteration 2100, Mean squared errror: 4.5972371\n",
      "2200\n",
      "Iteration 2200, Mean squared errror: 1.3427719\n",
      "2300\n",
      "Iteration 2300, Mean squared errror: 3.2106953\n",
      "2400\n",
      "Iteration 2400, Mean squared errror: 1.8903370\n",
      "2500\n",
      "Iteration 2500, Mean squared errror: 1.5131475\n",
      "2600\n",
      "Iteration 2600, Mean squared errror: 2.4476688\n",
      "2700\n",
      "Iteration 2700, Mean squared errror: 3.7159801\n",
      "2800\n",
      "Iteration 2800, Mean squared errror: 0.8753586\n",
      "2900\n",
      "Iteration 2900, Mean squared errror: 1.4950241\n",
      "3000\n",
      "Iteration 3000, Mean squared errror: 0.7179235\n",
      "3100\n",
      "Iteration 3100, Mean squared errror: 1.4335172\n",
      "3200\n",
      "Iteration 3200, Mean squared errror: 1.5944335\n",
      "3300\n",
      "Iteration 3300, Mean squared errror: 0.8662394\n",
      "3400\n",
      "Iteration 3400, Mean squared errror: 1.0093242\n",
      "3500\n",
      "Iteration 3500, Mean squared errror: 1.8029732\n",
      "3600\n",
      "Iteration 3600, Mean squared errror: 1.0022700\n",
      "3700\n",
      "Iteration 3700, Mean squared errror: 0.8458220\n",
      "3800\n",
      "Iteration 3800, Mean squared errror: 0.6968468\n",
      "3900\n",
      "Iteration 3900, Mean squared errror: 0.9813539\n",
      "4000\n",
      "Iteration 4000, Mean squared errror: 0.9213521\n",
      "4100\n",
      "Iteration 4100, Mean squared errror: 0.9373022\n",
      "4200\n",
      "Iteration 4200, Mean squared errror: 1.3577640\n",
      "4300\n",
      "Iteration 4300, Mean squared errror: 1.0380775\n",
      "4400\n",
      "Iteration 4400, Mean squared errror: 0.3209359\n",
      "4500\n",
      "Iteration 4500, Mean squared errror: 0.9534190\n",
      "4600\n",
      "Iteration 4600, Mean squared errror: 0.7197806\n",
      "4700\n",
      "Iteration 4700, Mean squared errror: 0.4870728\n",
      "4800\n",
      "Iteration 4800, Mean squared errror: 1.6434109\n",
      "4900\n",
      "Iteration 4900, Mean squared errror: 1.0823160\n"
     ]
    }
   ],
   "source": [
    "tf.reset_default_graph()\n",
    "(X_input, y_input), train_step, model_mse, _, saver, is_training = build_graph(num_periods,features,\n",
    "                                                                BN=BN,decay=decay,dp_prob=dp_prob,hidden=hidden,\n",
    "                                                                bs=bs,model_lam=model_lam\n",
    "                                                                              )\n",
    "train(x_batches, y_batches, iterations=iterations,verbose = True, bs=bs)"
   ]
  },
  {
   "cell_type": "code",
   "execution_count": 19,
   "metadata": {},
   "outputs": [
    {
     "name": "stdout",
     "output_type": "stream",
     "text": [
      "INFO:tensorflow:Restoring parameters from temp/temp-bn-save\n"
     ]
    }
   ],
   "source": [
    "tf.reset_default_graph()\n",
    "(X_input, y_input), train_step, model_mse, model_pred, saver, is_training = build_graph(num_periods,features,\n",
    "                                                                                        BN=BN,decay=decay,\n",
    "                                                                                        dp_prob=dp_prob,hidden=hidden,\n",
    "                                                                                       model_lam=model_lam\n",
    "                                                                                       )\n",
    "Y_sample_DP = test(x_batches,X_test,features,samples, bs=bs,BN=BN)"
   ]
  },
  {
   "cell_type": "code",
   "execution_count": 20,
   "metadata": {},
   "outputs": [],
   "source": [
    "Y_sample_DP = np.expand_dims(Y_sample_DP[:,:,0],-1)\n",
    "Y_test = np.expand_dims(Y_test[:,:,0],-1)"
   ]
  },
  {
   "cell_type": "code",
   "execution_count": 21,
   "metadata": {},
   "outputs": [
    {
     "data": {
      "image/png": "[encoded data removed]",
      "text/plain": [
       "<Figure size 576x432 with 1 Axes>"
      ]
     },
     "metadata": {
      "needs_background": "light"
     },
     "output_type": "display_data"
    }
   ],
   "source": [
    "plot(Y_sample_DP, Y_test)"
   ]
  },
  {
   "cell_type": "markdown",
   "metadata": {},
   "source": [
    "# BDNN Erythromycin rescistance Forecasting \n"
   ]
  },
  {
   "cell_type": "code",
   "execution_count": 22,
   "metadata": {},
   "outputs": [],
   "source": [
    "decay=0.9\n",
    "bs = 5\n",
    "dp_prob = 0.15\n",
    "BN=True\n",
    "hidden= 500\n",
    "samples = 3000\n",
    "iterations=  5 * 1000\n",
    "model_lam = 1e-1"
   ]
  },
  {
   "cell_type": "code",
   "execution_count": 23,
   "metadata": {},
   "outputs": [],
   "source": [
    "\n",
    "num_periods, f_horizon = 7, 1\n",
    "features = Erythromycin_X.shape[1]"
   ]
  },
  {
   "cell_type": "code",
   "execution_count": 24,
   "metadata": {},
   "outputs": [],
   "source": [
    "x_batches, y_batches = train_data(Erythromycin_X, num_periods=num_periods, f_horizon=f_horizon)\n",
    "X_test, Y_test = test_data(Erythromycin_X, num_periods,f_horizon)"
   ]
  },
  {
   "cell_type": "code",
   "execution_count": 25,
   "metadata": {},
   "outputs": [],
   "source": [
    "y_batches = np.expand_dims(y_batches[:,:,0],2)\n",
    "Y_test = np.expand_dims(Y_test[:,:,0],2)"
   ]
  },
  {
   "cell_type": "code",
   "execution_count": 26,
   "metadata": {},
   "outputs": [
    {
     "name": "stdout",
     "output_type": "stream",
     "text": [
      "0\n",
      "Iteration 0, Mean squared errror: 2439.5744629\n",
      "100\n",
      "Iteration 100, Mean squared errror: 888.7642822\n",
      "200\n",
      "Iteration 200, Mean squared errror: 106.3861465\n",
      "300\n",
      "Iteration 300, Mean squared errror: 95.8508072\n",
      "400\n",
      "Iteration 400, Mean squared errror: 40.6630783\n",
      "500\n",
      "Iteration 500, Mean squared errror: 28.5499153\n",
      "600\n",
      "Iteration 600, Mean squared errror: 25.9170475\n",
      "700\n",
      "Iteration 700, Mean squared errror: 18.0787239\n",
      "800\n",
      "Iteration 800, Mean squared errror: 11.6385889\n",
      "900\n",
      "Iteration 900, Mean squared errror: 17.5270386\n",
      "1000\n",
      "Iteration 1000, Mean squared errror: 3.1435754\n",
      "1100\n",
      "Iteration 1100, Mean squared errror: 7.7679968\n",
      "1200\n",
      "Iteration 1200, Mean squared errror: 4.3245721\n",
      "1300\n",
      "Iteration 1300, Mean squared errror: 5.0797143\n",
      "1400\n",
      "Iteration 1400, Mean squared errror: 4.2503805\n",
      "1500\n",
      "Iteration 1500, Mean squared errror: 2.0587804\n",
      "1600\n",
      "Iteration 1600, Mean squared errror: 3.6857827\n",
      "1700\n",
      "Iteration 1700, Mean squared errror: 2.0309243\n",
      "1800\n",
      "Iteration 1800, Mean squared errror: 6.3964748\n",
      "1900\n",
      "Iteration 1900, Mean squared errror: 3.2679334\n",
      "2000\n",
      "Iteration 2000, Mean squared errror: 2.4736180\n",
      "2100\n",
      "Iteration 2100, Mean squared errror: 3.4398823\n",
      "2200\n",
      "Iteration 2200, Mean squared errror: 3.4517853\n",
      "2300\n",
      "Iteration 2300, Mean squared errror: 2.2471817\n",
      "2400\n",
      "Iteration 2400, Mean squared errror: 0.7192441\n",
      "2500\n",
      "Iteration 2500, Mean squared errror: 4.7902927\n",
      "2600\n",
      "Iteration 2600, Mean squared errror: 1.6993797\n",
      "2700\n",
      "Iteration 2700, Mean squared errror: 2.2619319\n",
      "2800\n",
      "Iteration 2800, Mean squared errror: 1.7108314\n",
      "2900\n",
      "Iteration 2900, Mean squared errror: 1.6552454\n",
      "3000\n",
      "Iteration 3000, Mean squared errror: 2.1025417\n",
      "3100\n",
      "Iteration 3100, Mean squared errror: 1.1419375\n",
      "3200\n",
      "Iteration 3200, Mean squared errror: 2.8001800\n",
      "3300\n",
      "Iteration 3300, Mean squared errror: 1.4193705\n",
      "3400\n",
      "Iteration 3400, Mean squared errror: 4.0956287\n",
      "3500\n",
      "Iteration 3500, Mean squared errror: 1.1188594\n",
      "3600\n",
      "Iteration 3600, Mean squared errror: 1.0488157\n",
      "3700\n",
      "Iteration 3700, Mean squared errror: 1.2722938\n",
      "3800\n",
      "Iteration 3800, Mean squared errror: 1.9414265\n",
      "3900\n",
      "Iteration 3900, Mean squared errror: 0.9525436\n",
      "4000\n",
      "Iteration 4000, Mean squared errror: 1.4606206\n",
      "4100\n",
      "Iteration 4100, Mean squared errror: 0.4428879\n",
      "4200\n",
      "Iteration 4200, Mean squared errror: 2.2992787\n",
      "4300\n",
      "Iteration 4300, Mean squared errror: 1.0160600\n",
      "4400\n",
      "Iteration 4400, Mean squared errror: 0.3616028\n",
      "4500\n",
      "Iteration 4500, Mean squared errror: 1.1393707\n",
      "4600\n",
      "Iteration 4600, Mean squared errror: 0.7944729\n",
      "4700\n",
      "Iteration 4700, Mean squared errror: 0.4841926\n",
      "4800\n",
      "Iteration 4800, Mean squared errror: 0.3866683\n",
      "4900\n",
      "Iteration 4900, Mean squared errror: 0.5847963\n"
     ]
    }
   ],
   "source": [
    "tf.reset_default_graph()\n",
    "(X_input, y_input), train_step, model_mse, _, saver, is_training = build_graph(num_periods,features,\n",
    "                                                                BN=BN,decay=decay,dp_prob=dp_prob,hidden=hidden,\n",
    "                                                                bs=bs,model_lam=model_lam\n",
    "                                                                              )\n",
    "train(x_batches, y_batches, iterations=iterations,verbose = True, bs=bs)"
   ]
  },
  {
   "cell_type": "code",
   "execution_count": 27,
   "metadata": {},
   "outputs": [
    {
     "name": "stdout",
     "output_type": "stream",
     "text": [
      "INFO:tensorflow:Restoring parameters from temp/temp-bn-save\n"
     ]
    }
   ],
   "source": [
    "tf.reset_default_graph()\n",
    "(X_input, y_input), train_step, model_mse, model_pred, saver, is_training = build_graph(num_periods,features,\n",
    "                                                                                        BN=BN,decay=decay,\n",
    "                                                                                        dp_prob=dp_prob,hidden=hidden,\n",
    "                                                                                       model_lam=model_lam\n",
    "                                                                                       )\n",
    "Y_sample_DP = test(x_batches,X_test,features,samples, bs=bs,BN=BN)"
   ]
  },
  {
   "cell_type": "code",
   "execution_count": 28,
   "metadata": {},
   "outputs": [],
   "source": [
    "Y_sample_DP = np.expand_dims(Y_sample_DP[:,:,0],-1)\n",
    "Y_test = np.expand_dims(Y_test[:,:,0],-1)"
   ]
  },
  {
   "cell_type": "code",
   "execution_count": 29,
   "metadata": {},
   "outputs": [
    {
     "data": {
      "image/png": "[encoded data removed]",
      "text/plain": [
       "<Figure size 576x432 with 1 Axes>"
      ]
     },
     "metadata": {
      "needs_background": "light"
     },
     "output_type": "display_data"
    }
   ],
   "source": [
    "plot(Y_sample_DP, Y_test)"
   ]
  },
  {
   "cell_type": "markdown",
   "metadata": {},
   "source": [
    "# BDNN Pencillin rescistance Forecasting \n"
   ]
  },
  {
   "cell_type": "code",
   "execution_count": null,
   "metadata": {},
   "outputs": [],
   "source": [
    "decay=0.9\n",
    "bs = 5\n",
    "dp_prob = 0.95\n",
    "BN=True\n",
    "hidden= 500\n",
    "samples = 3000\n",
    "iterations=  5 * 1000\n",
    "model_lam = 1e-6"
   ]
  },
  {
   "cell_type": "code",
   "execution_count": null,
   "metadata": {},
   "outputs": [],
   "source": [
    "num_periods, f_horizon = 7, 1\n",
    "features = Pencillin_x.shape[1]"
   ]
  },
  {
   "cell_type": "code",
   "execution_count": null,
   "metadata": {},
   "outputs": [],
   "source": [
    "x_batches, y_batches = train_data(Pencillin_x, num_periods=num_periods, f_horizon=f_horizon)\n",
    "X_test, Y_test = test_data(Pencillin_x, num_periods,f_horizon)"
   ]
  },
  {
   "cell_type": "code",
   "execution_count": null,
   "metadata": {},
   "outputs": [],
   "source": [
    "y_batches = np.expand_dims(y_batches[:,:,0],2)\n",
    "Y_test = np.expand_dims(Y_test[:,:,0],2)"
   ]
  },
  {
   "cell_type": "code",
   "execution_count": null,
   "metadata": {},
   "outputs": [],
   "source": [
    "tf.reset_default_graph()\n",
    "(X_input, y_input), train_step, model_mse, _, saver, is_training = build_graph(num_periods,features,\n",
    "                                                                BN=BN,decay=decay,dp_prob=dp_prob,hidden=hidden,\n",
    "                                                                bs=bs,model_lam=model_lam\n",
    "                                                                              )\n",
    "train(x_batches, y_batches, iterations=iterations,verbose = True, bs=bs)"
   ]
  },
  {
   "cell_type": "code",
   "execution_count": null,
   "metadata": {},
   "outputs": [],
   "source": [
    "tf.reset_default_graph()\n",
    "(X_input, y_input), train_step, model_mse, model_pred, saver, is_training = build_graph(num_periods,features,\n",
    "                                                                                        BN=BN,decay=decay,\n",
    "                                                                                        dp_prob=dp_prob,hidden=hidden,\n",
    "                                                                                       model_lam=model_lam\n",
    "                                                                                       )\n",
    "Y_sample_DP = test(x_batches,X_test,features,samples, bs=bs,BN=BN)"
   ]
  },
  {
   "cell_type": "code",
   "execution_count": null,
   "metadata": {},
   "outputs": [],
   "source": [
    "Y_sample_DP = np.expand_dims(Y_sample_DP[:,:,0],-1)\n",
    "Y_test = np.expand_dims(Y_test[:,:,0],-1)"
   ]
  },
  {
   "cell_type": "code",
   "execution_count": null,
   "metadata": {},
   "outputs": [],
   "source": [
    "plot(Y_sample_DP, Y_test)"
   ]
  },
  {
   "cell_type": "code",
   "execution_count": null,
   "metadata": {},
   "outputs": [],
   "source": []
  },
  {
   "cell_type": "code",
   "execution_count": null,
   "metadata": {},
   "outputs": [],
   "source": []
  }
 ],
 "metadata": {
  "kernelspec": {
   "display_name": "Python kth-cluster",
   "language": "python",
   "name": "kth-cluster"
  },
  "language_info": {
   "codemirror_mode": {
    "name": "ipython",
    "version": 3
   },
   "file_extension": ".py",
   "mimetype": "text/x-python",
   "name": "python",
   "nbconvert_exporter": "python",
   "pygments_lexer": "ipython3",
   "version": "3.6.8"
  }
 },
 "nbformat": 4,
 "nbformat_minor": 2
}
